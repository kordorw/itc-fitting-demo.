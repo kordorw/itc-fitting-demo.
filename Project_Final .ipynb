{
 "cells": [
  {
   "cell_type": "markdown",
   "metadata": {},
   "source": [
    "## Modelling Drug Protein Interactions with Isothermal-Titration Calorimetry (ITC)\n",
    "In an ITC experiment, aliquots of a ligand (drug) in a syringe is periodically injected into a reaction cell containing a macromolecule (protein). The reaction is essentially a complexation reaction where the ligand is injected until the macromolecule reaches saturation. The saturation of the macromolecule indicates the end of the titration.  Titration of Calcium chloride (CaCl2) into EDTA is a well known and characterized experiment used as a standard for ITC experiments. \n",
    "\n",
    "First, we generated a model from scratch using the principles of energy and mass conservation by writing energy and mass balance equations for our system. Then we tested our model with Ca-EDTA experimental data to validate the model and compared it with an elaborate theoritical model developed by (Dumas, 2019), here in referred to as the Dumas model. Fitting of our model to experimental data showed a step change between the saturated (lower section) and unsaturated region(upper section) of the binding isotherm. The fit returned a negative R squared value. This could be due to over approximation in our model. The Dumas Model yielded a better fit and an R squared value of 0.94. \n",
    "We employed this model model to fit out Drug-Protein reaction. \n"
   ]
  },
  {
   "cell_type": "markdown",
   "metadata": {},
   "source": [
    "## Section 1   : Validating our model with Ca-EDTA experimental data\n",
    "\n"
   ]
  },
  {
   "cell_type": "code",
   "execution_count": 2,
   "metadata": {},
   "outputs": [
    {
     "data": {
      "text/html": [
       "<div>\n",
       "<style scoped>\n",
       "    .dataframe tbody tr th:only-of-type {\n",
       "        vertical-align: middle;\n",
       "    }\n",
       "\n",
       "    .dataframe tbody tr th {\n",
       "        vertical-align: top;\n",
       "    }\n",
       "\n",
       "    .dataframe thead th {\n",
       "        text-align: right;\n",
       "    }\n",
       "</style>\n",
       "<table border=\"1\" class=\"dataframe\">\n",
       "  <thead>\n",
       "    <tr style=\"text-align: right;\">\n",
       "      <th></th>\n",
       "      <th>Region</th>\n",
       "      <th>Q (µJ)</th>\n",
       "      <th>Corrected Q (µJ)</th>\n",
       "      <th>inj volume (µL)</th>\n",
       "      <th>moles titrant (moles)</th>\n",
       "      <th>moles titrate (moles)</th>\n",
       "      <th>moles titrant / moles titrate</th>\n",
       "      <th>total volume (µL)</th>\n",
       "      <th>inj interval (s)</th>\n",
       "      <th>i</th>\n",
       "    </tr>\n",
       "  </thead>\n",
       "  <tbody>\n",
       "    <tr>\n",
       "      <th>0</th>\n",
       "      <td>1</td>\n",
       "      <td>-26.366210</td>\n",
       "      <td>-13.104910</td>\n",
       "      <td>9.975</td>\n",
       "      <td>9.975000e-09</td>\n",
       "      <td>1.200000e-07</td>\n",
       "      <td>0.083125</td>\n",
       "      <td>809.975</td>\n",
       "      <td>300</td>\n",
       "      <td>1</td>\n",
       "    </tr>\n",
       "    <tr>\n",
       "      <th>1</th>\n",
       "      <td>2</td>\n",
       "      <td>-185.315424</td>\n",
       "      <td>-172.054124</td>\n",
       "      <td>9.975</td>\n",
       "      <td>1.995000e-08</td>\n",
       "      <td>1.200000e-07</td>\n",
       "      <td>0.166250</td>\n",
       "      <td>819.950</td>\n",
       "      <td>300</td>\n",
       "      <td>2</td>\n",
       "    </tr>\n",
       "    <tr>\n",
       "      <th>2</th>\n",
       "      <td>3</td>\n",
       "      <td>-179.939055</td>\n",
       "      <td>-166.677755</td>\n",
       "      <td>9.975</td>\n",
       "      <td>2.992500e-08</td>\n",
       "      <td>1.200000e-07</td>\n",
       "      <td>0.249375</td>\n",
       "      <td>829.925</td>\n",
       "      <td>300</td>\n",
       "      <td>3</td>\n",
       "    </tr>\n",
       "    <tr>\n",
       "      <th>3</th>\n",
       "      <td>4</td>\n",
       "      <td>-183.457728</td>\n",
       "      <td>-170.196428</td>\n",
       "      <td>9.975</td>\n",
       "      <td>3.990000e-08</td>\n",
       "      <td>1.200000e-07</td>\n",
       "      <td>0.332500</td>\n",
       "      <td>839.900</td>\n",
       "      <td>300</td>\n",
       "      <td>4</td>\n",
       "    </tr>\n",
       "    <tr>\n",
       "      <th>4</th>\n",
       "      <td>5</td>\n",
       "      <td>-191.176430</td>\n",
       "      <td>-177.915130</td>\n",
       "      <td>9.975</td>\n",
       "      <td>4.987500e-08</td>\n",
       "      <td>1.200000e-07</td>\n",
       "      <td>0.415625</td>\n",
       "      <td>849.875</td>\n",
       "      <td>300</td>\n",
       "      <td>5</td>\n",
       "    </tr>\n",
       "  </tbody>\n",
       "</table>\n",
       "</div>"
      ],
      "text/plain": [
       "   Region      Q (µJ)  Corrected Q (µJ)  inj volume (µL)  \\\n",
       "0       1  -26.366210        -13.104910            9.975   \n",
       "1       2 -185.315424       -172.054124            9.975   \n",
       "2       3 -179.939055       -166.677755            9.975   \n",
       "3       4 -183.457728       -170.196428            9.975   \n",
       "4       5 -191.176430       -177.915130            9.975   \n",
       "\n",
       "   moles titrant (moles)  moles titrate (moles)  \\\n",
       "0           9.975000e-09           1.200000e-07   \n",
       "1           1.995000e-08           1.200000e-07   \n",
       "2           2.992500e-08           1.200000e-07   \n",
       "3           3.990000e-08           1.200000e-07   \n",
       "4           4.987500e-08           1.200000e-07   \n",
       "\n",
       "   moles titrant / moles titrate  total volume (µL)  inj interval (s)  i  \n",
       "0                       0.083125            809.975               300  1  \n",
       "1                       0.166250            819.950               300  2  \n",
       "2                       0.249375            829.925               300  3  \n",
       "3                       0.332500            839.900               300  4  \n",
       "4                       0.415625            849.875               300  5  "
      ]
     },
     "execution_count": 2,
     "metadata": {},
     "output_type": "execute_result"
    }
   ],
   "source": [
    "import numpy as np\n",
    "from matplotlib import pyplot as plt\n",
    "%matplotlib inline\n",
    "import pandas as pd\n",
    "from numpy import sqrt \n",
    "from scipy.optimize import curve_fit\n",
    "from sklearn.metrics import r2_score \n",
    "x = pd.read_excel(r'/Users/mac/Downloads/modelling meeting/Ca-EDTA Data only.xlsx')\n",
    "x.head()"
   ]
  },
  {
   "cell_type": "code",
   "execution_count": 3,
   "metadata": {},
   "outputs": [],
   "source": [
    "#Experiment parameters\n",
    "\n",
    "Vo=800 #Initial volume of EDTA in the cell, uL\n",
    "v= 9.975 #Volume of CaCl2 per injection, uL\n",
    "Lo= 1 # Concentration of CaCl2 in the syringe, mM\n",
    "Mo=0.150 #Concentration of EDTA in the cell , mM\n",
    "\n",
    "#Parameters to calculate\n",
    "#Mt,#Lt, #ML,#ML[i-1] = ML2,#Lt[i-1]=L2t,#Mt[i-1]=M2t,#n"
   ]
  },
  {
   "cell_type": "raw",
   "metadata": {},
   "source": [
    "Mt= Mo*(1-v/Vo)**i                        #Mt is the total macromolecule concetration in the cell(mM)\n",
    "Lt= Lo(1-(1-v/Vo)**i)                     #Lt is the total ligand concentration in the cell(mM)\n",
    "A= 1+Ka(Mt+Lt)                            #Ka is the association constant(1/M)\n",
    "B= sqrt((A**2)-(4*Ka**2*Mt*Lt))           #H is the change in enthalpy kJ/mol\n",
    "ML=(A-B)/(2*Ka)                           #ML is the concentration of bound ligand or macromolecule or complex.\n",
    "Qpi=((Vo*H)/(v*Lo))*(MLi-MLi-1(1-v/Vo))   #Qpi is the predicted heat rate using from the model\n",
    "N= ML/Mt                                  #N is fractional saturation of the macromolecule\n",
    "\n"
   ]
  },
  {
   "cell_type": "code",
   "execution_count": 4,
   "metadata": {},
   "outputs": [],
   "source": [
    "#MLi vector and list generation for i,Mt and Lt \n",
    "Region = np.array(list(range(0,25)))  \n",
    "Mt = []\n",
    "Lt = []\n",
    "Mt_below = []\n",
    "Lt_below = []\n",
    "for idx, i in enumerate(Region):\n",
    "    try: \n",
    "        Mt_= Mo*(1-v/Vo)**(i)\n",
    "        Lt_= Lo*(1-(1-v/Vo)**((i)))\n",
    "        Mt.append(Mt_)\n",
    "        Lt.append(Lt_)\n",
    "\n",
    "        Mt_below_= Mo*(1-v/Vo)**(Region[idx+1])\n",
    "        Lt_below_= Lo*(1-(1-v/Vo)**(Region[idx+1]))\n",
    "        Mt_below.append(Mt_below_)\n",
    "        Lt_below.append(Lt_below_)\n",
    "    except: \n",
    "        pass\n",
    "\n",
    "Mt_below.append(0)\n",
    "Lt_below.append(0)\n",
    "\n"
   ]
  },
  {
   "cell_type": "code",
   "execution_count": 5,
   "metadata": {},
   "outputs": [],
   "source": [
    "#Making Lt and Mt arrays\n",
    "Mt = np.array(Mt)\n",
    "Lt = np.array(Lt)\n",
    "Mt_below = np.array(Mt_below)\n",
    "Lt_below = np.array(Lt_below)\n",
    "N = np.array(Lt/Mt)\n",
    "\n",
    "matrix = np.row_stack((Region, Mt, Lt, Mt_below, Lt_below))"
   ]
  },
  {
   "cell_type": "code",
   "execution_count": 6,
   "metadata": {},
   "outputs": [
    {
     "data": {
      "image/png": "[encoded data removed]",
      "text/plain": [
       "<Figure size 432x288 with 1 Axes>"
      ]
     },
     "metadata": {
      "needs_background": "light"
     },
     "output_type": "display_data"
    }
   ],
   "source": [
    "\n",
    "#### Qpi predicts heat values according to our model. \n",
    "def Qpi(matrix,H,Ka,N):\n",
    "    '''\n",
    "    Function that returns predicted heat value. \n",
    "    '''\n",
    "    i,Mt, Lt, Mt_below, Lt_below = matrix \n",
    "    A= 1+Ka*(Mt+Lt)\n",
    "    A_below = 1+Ka*(Mt_below+Lt_below)\n",
    "    B= sqrt((A**2)-(4*Ka**2*Mt*Lt))\n",
    "    B_below = sqrt((A_below**2)-(4*Ka**2*Mt_below*Lt_below))\n",
    "    ML=((A-B)/(2*Ka))\n",
    "    ML_below = ((A_below-B_below)/(2*Ka))\n",
    "    Qpi=((Vo*10*H)/(v*Lo))*(ML_below-ML*(1-v/Vo))*N\n",
    "\n",
    "\n",
    "    return Qpi\n",
    "                                                  \n",
    "                                      \n",
    "H, Ka,N = [-10, 170000,0.5]        #guess parameters                             \n",
    "results = Qpi(matrix,H,Ka,N)\n",
    "\n",
    "results\n",
    "plt.plot(x['moles titrant / moles titrate'].values[1:],x['Corrected Q (µJ)'][1:], 'o', label=\"data\")\n",
    "plt.plot(x['moles titrant / moles titrate'].values[:-1],results[:-1],label=\"predicted\")\n",
    "plt.xlabel('Mole ratio')\n",
    "plt.ylabel('Q(Heat per mole) KJ/mol')\n",
    "plt.title('Ca-EDTA binding isotherm - Prediction')\n",
    "plt.legend(loc=\"best\")\n",
    "plt.savefig('Ca-EDTA binding isotherm - Prediction.png',dpi=300)"
   ]
  },
  {
   "cell_type": "code",
   "execution_count": 7,
   "metadata": {},
   "outputs": [
    {
     "name": "stdout",
     "output_type": "stream",
     "text": [
      "[-1.7e+01  2.5e+05  1.0e+00] [1.69369892e+09 2.24336852e+07 9.96293482e+07]\n"
     ]
    }
   ],
   "source": [
    "#Fitting experimental data to the model equation with scipy.curve_fit \n",
    "\n",
    "\n",
    "\n",
    "\n",
    "optimal_parameters,covariance = curve_fit(Qpi,matrix,x['Corrected Q (µJ)'].values,bounds=[[-20,250000,1.0],[-17,300000,1.2]])\n",
    "parameter_errors = np.sqrt(np.diag(covariance))\n",
    "print(optimal_parameters,parameter_errors)"
   ]
  },
  {
   "cell_type": "code",
   "execution_count": 8,
   "metadata": {},
   "outputs": [],
   "source": [
    "from sklearn.metrics import r2_score "
   ]
  },
  {
   "cell_type": "code",
   "execution_count": 9,
   "metadata": {},
   "outputs": [
    {
     "name": "stdout",
     "output_type": "stream",
     "text": [
      "-14.445596594460694\n"
     ]
    }
   ],
   "source": [
    "R_square = r2_score(x['Corrected Q (µJ)'].values,Qpi(matrix,*optimal_parameters))\n",
    "print(R_square)"
   ]
  },
  {
   "cell_type": "code",
   "execution_count": 10,
   "metadata": {},
   "outputs": [
    {
     "data": {
      "image/png": "[encoded data removed]",
      "text/plain": [
       "<Figure size 432x288 with 1 Axes>"
      ]
     },
     "metadata": {
      "needs_background": "light"
     },
     "output_type": "display_data"
    }
   ],
   "source": [
    "plt.plot(x['moles titrant / moles titrate'].values[1:],x['Corrected Q (µJ)'][1:], 'o', label=\"data\")\n",
    "plt.plot(x['moles titrant / moles titrate'].values[:-1],Qpi(matrix,*optimal_parameters)[:-1],label=\"fitted\")\n",
    "plt.xlabel('Mole ratio')\n",
    "plt.ylabel('Q(Heat per mole) kJ/mol')\n",
    "plt.title('Ca-EDTA binding isotherm Data and Fit')\n",
    "plt.legend(loc=\"best\")\n",
    "plt.savefig('Ca-EDTA binding isotherm - Data and Fit.png',dpi=300)"
   ]
  },
  {
   "cell_type": "markdown",
   "metadata": {},
   "source": [
    "## Section 2 :  Drug - Protein Data Analysis with our generated model. The drug is Carvedilol and the protein is Mucin. \n",
    "\n"
   ]
  },
  {
   "cell_type": "code",
   "execution_count": 11,
   "metadata": {},
   "outputs": [
    {
     "data": {
      "text/html": [
       "<div>\n",
       "<style scoped>\n",
       "    .dataframe tbody tr th:only-of-type {\n",
       "        vertical-align: middle;\n",
       "    }\n",
       "\n",
       "    .dataframe tbody tr th {\n",
       "        vertical-align: top;\n",
       "    }\n",
       "\n",
       "    .dataframe thead th {\n",
       "        text-align: right;\n",
       "    }\n",
       "</style>\n",
       "<table border=\"1\" class=\"dataframe\">\n",
       "  <thead>\n",
       "    <tr style=\"text-align: right;\">\n",
       "      <th></th>\n",
       "      <th>Region</th>\n",
       "      <th>Q (µJ)</th>\n",
       "      <th>Corrected Q (µJ)</th>\n",
       "      <th>inj volume (µL)</th>\n",
       "      <th>moles titrant (moles)</th>\n",
       "      <th>moles titrate (moles)</th>\n",
       "      <th>moles titrant / moles titrate</th>\n",
       "      <th>total volume (µL)</th>\n",
       "      <th>inj interval (s)</th>\n",
       "    </tr>\n",
       "  </thead>\n",
       "  <tbody>\n",
       "    <tr>\n",
       "      <th>0</th>\n",
       "      <td>1</td>\n",
       "      <td>-12.623274</td>\n",
       "      <td>-18.730724</td>\n",
       "      <td>9.975</td>\n",
       "      <td>1.915200e-09</td>\n",
       "      <td>6.184000e-09</td>\n",
       "      <td>0.309702</td>\n",
       "      <td>809.975</td>\n",
       "      <td>300</td>\n",
       "    </tr>\n",
       "    <tr>\n",
       "      <th>1</th>\n",
       "      <td>2</td>\n",
       "      <td>-50.921046</td>\n",
       "      <td>-57.028496</td>\n",
       "      <td>9.975</td>\n",
       "      <td>3.830400e-09</td>\n",
       "      <td>6.184000e-09</td>\n",
       "      <td>0.619405</td>\n",
       "      <td>819.950</td>\n",
       "      <td>300</td>\n",
       "    </tr>\n",
       "    <tr>\n",
       "      <th>2</th>\n",
       "      <td>3</td>\n",
       "      <td>-39.431629</td>\n",
       "      <td>-45.539079</td>\n",
       "      <td>9.975</td>\n",
       "      <td>5.745600e-09</td>\n",
       "      <td>6.184000e-09</td>\n",
       "      <td>0.929107</td>\n",
       "      <td>829.925</td>\n",
       "      <td>300</td>\n",
       "    </tr>\n",
       "    <tr>\n",
       "      <th>3</th>\n",
       "      <td>4</td>\n",
       "      <td>-21.759127</td>\n",
       "      <td>-27.866577</td>\n",
       "      <td>9.975</td>\n",
       "      <td>7.660800e-09</td>\n",
       "      <td>6.184000e-09</td>\n",
       "      <td>1.238810</td>\n",
       "      <td>839.900</td>\n",
       "      <td>300</td>\n",
       "    </tr>\n",
       "    <tr>\n",
       "      <th>4</th>\n",
       "      <td>5</td>\n",
       "      <td>-21.499471</td>\n",
       "      <td>-27.606921</td>\n",
       "      <td>9.975</td>\n",
       "      <td>9.576000e-09</td>\n",
       "      <td>6.184000e-09</td>\n",
       "      <td>1.548512</td>\n",
       "      <td>849.875</td>\n",
       "      <td>300</td>\n",
       "    </tr>\n",
       "  </tbody>\n",
       "</table>\n",
       "</div>"
      ],
      "text/plain": [
       "   Region     Q (µJ)  Corrected Q (µJ)  inj volume (µL)  \\\n",
       "0       1 -12.623274        -18.730724            9.975   \n",
       "1       2 -50.921046        -57.028496            9.975   \n",
       "2       3 -39.431629        -45.539079            9.975   \n",
       "3       4 -21.759127        -27.866577            9.975   \n",
       "4       5 -21.499471        -27.606921            9.975   \n",
       "\n",
       "   moles titrant (moles)  moles titrate (moles)  \\\n",
       "0           1.915200e-09           6.184000e-09   \n",
       "1           3.830400e-09           6.184000e-09   \n",
       "2           5.745600e-09           6.184000e-09   \n",
       "3           7.660800e-09           6.184000e-09   \n",
       "4           9.576000e-09           6.184000e-09   \n",
       "\n",
       "   moles titrant / moles titrate  total volume (µL)  inj interval (s)  \n",
       "0                       0.309702            809.975               300  \n",
       "1                       0.619405            819.950               300  \n",
       "2                       0.929107            829.925               300  \n",
       "3                       1.238810            839.900               300  \n",
       "4                       1.548512            849.875               300  "
      ]
     },
     "execution_count": 11,
     "metadata": {},
     "output_type": "execute_result"
    }
   ],
   "source": [
    "y = pd.read_excel(r'/Users/mac/Downloads/modelling meeting/Mucin Carvedilol Data (1) (1).xlsx')\n",
    "y.head()"
   ]
  },
  {
   "cell_type": "code",
   "execution_count": 12,
   "metadata": {},
   "outputs": [],
   "source": [
    "#Experiment parameters\n",
    "\n",
    "Vo_=800 #Initial volume of EDTA in the cell, uL\n",
    "v_= 9.975 #Volume of CaCl2 per injection, uL\n",
    "Lo_= 0.192 # Concentration of CaCl2 in the syringe, mM\n",
    "Mo_=0.0077 #Concentration of EDTA in the cell , mM\n",
    "\n",
    "#Parameters to calculate\n",
    "#Mt,#Lt, #ML,#ML[i-1] = ML2,#Lt[i-1]=L2t,#Mt[i-1]=M2t,#n"
   ]
  },
  {
   "cell_type": "code",
   "execution_count": 13,
   "metadata": {},
   "outputs": [],
   "source": [
    "#MLi vector and list generation for i,Mt and Lt \n",
    "Region_ = np.array(list(range(0,25)))  \n",
    "Mt_ = []\n",
    "Lt_ = []\n",
    "Mt_below_ = []\n",
    "Lt_below_ = []\n",
    "for idx, i in enumerate(Region_):\n",
    "    try: \n",
    "        Mt__= Mo_*(1-v_/Vo_)**(i)\n",
    "        Lt__= Lo_*(1-(1-v_/Vo_)**((i)))\n",
    "        Mt_.append(Mt__)\n",
    "        Lt_.append(Lt__)\n",
    "\n",
    "        Mt_below__= Mo_*(1-v_/Vo_)**(Region_[idx+1])\n",
    "        Lt_below__= Lo_*(1-(1-v_/Vo_)**(Region_[idx+1]))\n",
    "        Mt_below_.append(Mt_below__)\n",
    "        Lt_below_.append(Lt_below__)\n",
    "    except: \n",
    "        pass\n",
    "\n",
    "Mt_below_.append(0)\n",
    "Lt_below_.append(0)\n",
    "\n"
   ]
  },
  {
   "cell_type": "code",
   "execution_count": 14,
   "metadata": {},
   "outputs": [],
   "source": [
    "#Making Lt and Mt arrays\n",
    "Mt_ = np.array(Mt_)\n",
    "Lt_ = np.array(Lt_)\n",
    "Mt_below_ = np.array(Mt_below_)\n",
    "Lt_below_ = np.array(Lt_below_)\n",
    "N_ = np.array(Lt_/Mt_)\n",
    "\n",
    "matrix_ = np.row_stack((Region_, Mt_, Lt_, Mt_below_, Lt_below_))"
   ]
  },
  {
   "cell_type": "code",
   "execution_count": 15,
   "metadata": {},
   "outputs": [
    {
     "data": {
      "image/png": "[encoded data removed]",
      "text/plain": [
       "<Figure size 432x288 with 1 Axes>"
      ]
     },
     "metadata": {
      "needs_background": "light"
     },
     "output_type": "display_data"
    }
   ],
   "source": [
    "\n",
    "#### Qpi_ predicts heat values according to our model. \n",
    "def Qpi_(matrix_,H_,Ka_,N_):\n",
    "    '''\n",
    "    Function that returns predicted heat value. \n",
    "    '''\n",
    "    i,Mt_, Lt_, Mt_below_, Lt_below_ = matrix_ \n",
    "    A_= 1+Ka_*(Mt_+Lt_)\n",
    "    A_below_ = 1+Ka_*(Mt_below_+Lt_below_)\n",
    "    B_= sqrt((A_**2)-(4*Ka_**2*Mt_*Lt_))\n",
    "    B_below_ = sqrt((A_below_**2)-(4*Ka_**2*Mt_below_*Lt_below_))\n",
    "    ML_=((A_-B_)/(2*Ka_))\n",
    "    ML_below_ = ((A_below_-B_below_)/(2*Ka_))\n",
    "    Qpi_=((Vo_*10*H_)/(v_*Lo_))*(ML_below_-ML_*(1-v_/Vo_))*N_\n",
    "\n",
    "\n",
    "    return Qpi_\n",
    "                                                  \n",
    "                                      \n",
    "H_, Ka_,N_ = [-120, 500000,0.1]        #guess parameters                             \n",
    "results_ = Qpi_(matrix_,H_,Ka_,N_)\n",
    "\n",
    "results_\n",
    "plt.plot(y['moles titrant / moles titrate'].values[1:],y['Corrected Q (µJ)'][1:], 'o', label=\"data\")\n",
    "plt.plot(y['moles titrant / moles titrate'].values[:-1],results_[:-1],label=\"predicted\")\n",
    "plt.xlabel('Mole ratio')\n",
    "plt.ylabel('Q(Heat per mole) KJ/mol')\n",
    "plt.title('Carvedilol-Mucin binding isotherm - Prediction')\n",
    "plt.legend(loc=\"best\")\n",
    "plt.savefig('Carvedilol-Mucin binding isotherm - Prediction.png',dpi=300)"
   ]
  },
  {
   "cell_type": "code",
   "execution_count": 16,
   "metadata": {},
   "outputs": [
    {
     "name": "stdout",
     "output_type": "stream",
     "text": [
      "[-5.17890225e+00  6.00000000e+04  2.51664711e-01] [2.97935393e+08 1.35922930e+06 1.44779378e+07]\n"
     ]
    }
   ],
   "source": [
    "#Fitting experimental data to the model equation with scipy.curve_fit \n",
    "\n",
    "\n",
    "\n",
    "\n",
    "optimal_parameters,covariance = curve_fit(Qpi_,matrix_,y['Corrected Q (µJ)'].values,bounds=[[-30,30000,0.1],[10,60000,0.5]])\n",
    "parameter_errors = np.sqrt(np.diag(covariance))\n",
    "print(optimal_parameters,parameter_errors)"
   ]
  },
  {
   "cell_type": "code",
   "execution_count": 17,
   "metadata": {},
   "outputs": [
    {
     "name": "stdout",
     "output_type": "stream",
     "text": [
      "-0.500500143021819\n"
     ]
    }
   ],
   "source": [
    "R_square = r2_score(y['Corrected Q (µJ)'].values,Qpi_(matrix_,*optimal_parameters))\n",
    "print(R_square)"
   ]
  },
  {
   "cell_type": "code",
   "execution_count": 18,
   "metadata": {},
   "outputs": [
    {
     "data": {
      "image/png": "[encoded data removed]",
      "text/plain": [
       "<Figure size 432x288 with 1 Axes>"
      ]
     },
     "metadata": {
      "needs_background": "light"
     },
     "output_type": "display_data"
    }
   ],
   "source": [
    "plt.plot(y['moles titrant / moles titrate'].values[1:],y['Corrected Q (µJ)'][1:], 'o', label=\"data\")\n",
    "plt.plot(y['moles titrant / moles titrate'].values[:-1],Qpi_(matrix_,*optimal_parameters)[:-1],label=\"fitted\")\n",
    "plt.xlabel('Mole ratio')\n",
    "plt.ylabel('Q(Heat per mole) kJ/mol')\n",
    "plt.title('Carvedilol-Mucin binding isotherm Data and Fit')\n",
    "plt.legend(loc=\"best\")\n",
    "plt.savefig('Carvedilol-Mucin binding isotherm - Data and Fit.png',dpi=300)"
   ]
  },
  {
   "cell_type": "markdown",
   "metadata": {},
   "source": [
    "## Section 3  : Validation of Dumas Model with Ca-EDTA Experimental Data.\n",
    "\n",
    "  "
   ]
  },
  {
   "cell_type": "code",
   "execution_count": 19,
   "metadata": {},
   "outputs": [
    {
     "data": {
      "text/html": [
       "<div>\n",
       "<style scoped>\n",
       "    .dataframe tbody tr th:only-of-type {\n",
       "        vertical-align: middle;\n",
       "    }\n",
       "\n",
       "    .dataframe tbody tr th {\n",
       "        vertical-align: top;\n",
       "    }\n",
       "\n",
       "    .dataframe thead th {\n",
       "        text-align: right;\n",
       "    }\n",
       "</style>\n",
       "<table border=\"1\" class=\"dataframe\">\n",
       "  <thead>\n",
       "    <tr style=\"text-align: right;\">\n",
       "      <th></th>\n",
       "      <th>s(exp)</th>\n",
       "      <th>Qexp</th>\n",
       "    </tr>\n",
       "  </thead>\n",
       "  <tbody>\n",
       "    <tr>\n",
       "      <th>0</th>\n",
       "      <td>0.000000</td>\n",
       "      <td>NaN</td>\n",
       "    </tr>\n",
       "    <tr>\n",
       "      <th>1</th>\n",
       "      <td>0.166250</td>\n",
       "      <td>-41.121923</td>\n",
       "    </tr>\n",
       "    <tr>\n",
       "      <th>2</th>\n",
       "      <td>0.249375</td>\n",
       "      <td>-39.836940</td>\n",
       "    </tr>\n",
       "    <tr>\n",
       "      <th>3</th>\n",
       "      <td>0.332500</td>\n",
       "      <td>-40.677923</td>\n",
       "    </tr>\n",
       "    <tr>\n",
       "      <th>4</th>\n",
       "      <td>0.415625</td>\n",
       "      <td>-42.522737</td>\n",
       "    </tr>\n",
       "    <tr>\n",
       "      <th>5</th>\n",
       "      <td>0.498750</td>\n",
       "      <td>-40.376389</td>\n",
       "    </tr>\n",
       "    <tr>\n",
       "      <th>6</th>\n",
       "      <td>0.581875</td>\n",
       "      <td>-45.317552</td>\n",
       "    </tr>\n",
       "    <tr>\n",
       "      <th>7</th>\n",
       "      <td>0.665000</td>\n",
       "      <td>-38.654584</td>\n",
       "    </tr>\n",
       "    <tr>\n",
       "      <th>8</th>\n",
       "      <td>0.748125</td>\n",
       "      <td>-36.510428</td>\n",
       "    </tr>\n",
       "    <tr>\n",
       "      <th>9</th>\n",
       "      <td>0.831250</td>\n",
       "      <td>-33.319762</td>\n",
       "    </tr>\n",
       "    <tr>\n",
       "      <th>10</th>\n",
       "      <td>0.914375</td>\n",
       "      <td>-36.836833</td>\n",
       "    </tr>\n",
       "    <tr>\n",
       "      <th>11</th>\n",
       "      <td>0.997500</td>\n",
       "      <td>-31.158612</td>\n",
       "    </tr>\n",
       "    <tr>\n",
       "      <th>12</th>\n",
       "      <td>1.080625</td>\n",
       "      <td>-18.459198</td>\n",
       "    </tr>\n",
       "    <tr>\n",
       "      <th>13</th>\n",
       "      <td>1.163750</td>\n",
       "      <td>-6.679864</td>\n",
       "    </tr>\n",
       "    <tr>\n",
       "      <th>14</th>\n",
       "      <td>1.246875</td>\n",
       "      <td>-1.787778</td>\n",
       "    </tr>\n",
       "    <tr>\n",
       "      <th>15</th>\n",
       "      <td>1.330000</td>\n",
       "      <td>-0.981214</td>\n",
       "    </tr>\n",
       "    <tr>\n",
       "      <th>16</th>\n",
       "      <td>1.413125</td>\n",
       "      <td>-1.615076</td>\n",
       "    </tr>\n",
       "    <tr>\n",
       "      <th>17</th>\n",
       "      <td>1.496250</td>\n",
       "      <td>-1.162432</td>\n",
       "    </tr>\n",
       "    <tr>\n",
       "      <th>18</th>\n",
       "      <td>1.579375</td>\n",
       "      <td>-1.849468</td>\n",
       "    </tr>\n",
       "    <tr>\n",
       "      <th>19</th>\n",
       "      <td>1.662500</td>\n",
       "      <td>0.353390</td>\n",
       "    </tr>\n",
       "    <tr>\n",
       "      <th>20</th>\n",
       "      <td>1.745625</td>\n",
       "      <td>-1.465771</td>\n",
       "    </tr>\n",
       "    <tr>\n",
       "      <th>21</th>\n",
       "      <td>1.828750</td>\n",
       "      <td>0.731496</td>\n",
       "    </tr>\n",
       "    <tr>\n",
       "      <th>22</th>\n",
       "      <td>1.911875</td>\n",
       "      <td>0.101702</td>\n",
       "    </tr>\n",
       "    <tr>\n",
       "      <th>23</th>\n",
       "      <td>1.995000</td>\n",
       "      <td>0.794889</td>\n",
       "    </tr>\n",
       "    <tr>\n",
       "      <th>24</th>\n",
       "      <td>2.078125</td>\n",
       "      <td>-1.938414</td>\n",
       "    </tr>\n",
       "  </tbody>\n",
       "</table>\n",
       "</div>"
      ],
      "text/plain": [
       "      s(exp)       Qexp\n",
       "0   0.000000        NaN\n",
       "1   0.166250 -41.121923\n",
       "2   0.249375 -39.836940\n",
       "3   0.332500 -40.677923\n",
       "4   0.415625 -42.522737\n",
       "5   0.498750 -40.376389\n",
       "6   0.581875 -45.317552\n",
       "7   0.665000 -38.654584\n",
       "8   0.748125 -36.510428\n",
       "9   0.831250 -33.319762\n",
       "10  0.914375 -36.836833\n",
       "11  0.997500 -31.158612\n",
       "12  1.080625 -18.459198\n",
       "13  1.163750  -6.679864\n",
       "14  1.246875  -1.787778\n",
       "15  1.330000  -0.981214\n",
       "16  1.413125  -1.615076\n",
       "17  1.496250  -1.162432\n",
       "18  1.579375  -1.849468\n",
       "19  1.662500   0.353390\n",
       "20  1.745625  -1.465771\n",
       "21  1.828750   0.731496\n",
       "22  1.911875   0.101702\n",
       "23  1.995000   0.794889\n",
       "24  2.078125  -1.938414"
      ]
     },
     "execution_count": 19,
     "metadata": {},
     "output_type": "execute_result"
    }
   ],
   "source": [
    "\n",
    "z = pd.read_excel(r'/Users/mac/Downloads/modelling meeting/Ca-EDTA Data_ Model_Validation  .xlsx')\n",
    "z.head(25)"
   ]
  },
  {
   "cell_type": "code",
   "execution_count": 20,
   "metadata": {},
   "outputs": [],
   "source": [
    "s1 = np.array([0,\n",
    "0.1663,\n",
    "0.2494,\n",
    "0.3325,\n",
    "0.4156,\n",
    "0.4988,\n",
    "0.5819,\n",
    "0.6650,\n",
    "0.7481,\n",
    "0.8313,\n",
    "0.9144,\n",
    "0.9975,\n",
    "1.0806,\n",
    "1.1638,\n",
    "1.2469,\n",
    "1.3300,\n",
    "1.4131,\n",
    "1.4963,\n",
    "1.5794,\n",
    "1.6625,\n",
    "1.7456,\n",
    "1.8288,\n",
    "1.9119,\n",
    "1.9950,\n",
    "2.0781,\n",
    "])"
   ]
  },
  {
   "cell_type": "code",
   "execution_count": 21,
   "metadata": {},
   "outputs": [],
   "source": [
    "Qexp = np.array([-41.1219,\n",
    "-39.8369,\n",
    "-40.6779,\n",
    "-42.5227,\n",
    "-40.3764,\n",
    "-45.3176,\n",
    "-38.6546,\n",
    "-36.5104,\n",
    "-33.3198,\n",
    "-36.8368,\n",
    "-31.1586,\n",
    "-18.4592,\n",
    "-6.6799,\n",
    "-1.7878,\n",
    "-0.9812,\n",
    "-1.6151,\n",
    "-1.1624,\n",
    "-1.8495,\n",
    "0.3534,\n",
    "-1.4658,\n",
    "0.7315,\n",
    "0.1017,\n",
    "0.7949,\n",
    "-1.9384\n",
    "])"
   ]
  },
  {
   "cell_type": "code",
   "execution_count": 22,
   "metadata": {},
   "outputs": [],
   "source": [
    "#Guess parameters\n",
    "ActiveFraction =0.8\n",
    "H = -10 #(kcal/mol)\n",
    "Kd =0.5 #uM\n",
    "Shift = 0.275038395603541"
   ]
  },
  {
   "cell_type": "code",
   "execution_count": 23,
   "metadata": {},
   "outputs": [],
   "source": [
    "A0=150 #in uM - cell concentration\n",
    "B0= 1000 # in uM - syringe concentration\n",
    "\n",
    "def Qp(s1,H,ActiveFraction,Kd,Shift):\n",
    "    s2 = s1/ActiveFraction\n",
    "    r = B0/(ActiveFraction*A0) \n",
    "    gamma = B0/Kd #gamma = rc\n",
    "    c = A0/Kd #Wiseman parameter\n",
    "    \n",
    "    Z = []\n",
    "    for i in range(0,len(s1)):\n",
    "        z = np.sqrt(((r+gamma)**2)+ 2*s2[i]*(r+gamma+(r-gamma)*gamma) + (s2[i]**2)*((1+gamma)**2))\n",
    "        Z = np.append(Z,z)\n",
    "    # print(Z)\n",
    "    \n",
    "    Q = []\n",
    "    for i in range(0,len(s1)-1):\n",
    "        q = Shift+((1+gamma-((Z[i+1]-Z[i])/(s2[i+1]-s2[i])))/(2*gamma))*10*H\n",
    "        Q = np.append(Q,q)\n",
    "    \n",
    "    return Q"
   ]
  },
  {
   "cell_type": "code",
   "execution_count": 24,
   "metadata": {},
   "outputs": [
    {
     "data": {
      "text/plain": [
       "<matplotlib.legend.Legend at 0x7fa4aa465af0>"
      ]
     },
     "execution_count": 24,
     "metadata": {},
     "output_type": "execute_result"
    },
    {
     "data": {
      "image/png": "[encoded data removed]",
      "text/plain": [
       "<Figure size 432x288 with 1 Axes>"
      ]
     },
     "metadata": {
      "needs_background": "light"
     },
     "output_type": "display_data"
    }
   ],
   "source": [
    "plt.plot(s1[1:],Qexp, 'o',label=\"data\")\n",
    "plt.plot(s1[1:],Qp(s1,H,ActiveFraction,Kd,Shift),label=\"Predicted_Q\")\n",
    "plt.xlabel('Mole ratio')\n",
    "plt.ylabel('Q(Heat per mole) Kcal/mol')\n",
    "plt.title('Ca-EDTA binding isotherm - Prediction')\n",
    "plt.legend(loc=\"best\")\n",
    "    "
   ]
  },
  {
   "cell_type": "code",
   "execution_count": 25,
   "metadata": {},
   "outputs": [
    {
     "name": "stdout",
     "output_type": "stream",
     "text": [
      "[-4.10817503  1.02914844  0.5         0.275     ] [0.11598672 0.0109113  0.16709777 0.72195791]\n"
     ]
    }
   ],
   "source": [
    "optimal_parameters,covariance = curve_fit(Qp,s1,Qexp,bounds=[[-50,0.5,0.5,0.275],[50,1.1,1.2,0.6]])\n",
    "parameter_errors = np.sqrt(np.diag(covariance))\n",
    "print(optimal_parameters,parameter_errors)\n",
    "\n"
   ]
  },
  {
   "cell_type": "code",
   "execution_count": 26,
   "metadata": {},
   "outputs": [
    {
     "name": "stdout",
     "output_type": "stream",
     "text": [
      "0.9897054489317347\n"
     ]
    }
   ],
   "source": [
    "R_square = r2_score(Qexp,Qp(s1,*optimal_parameters))\n",
    "print(R_square)"
   ]
  },
  {
   "cell_type": "code",
   "execution_count": 27,
   "metadata": {},
   "outputs": [
    {
     "data": {
      "text/plain": [
       "<matplotlib.legend.Legend at 0x7fa4aa4876a0>"
      ]
     },
     "execution_count": 27,
     "metadata": {},
     "output_type": "execute_result"
    },
    {
     "data": {
      "image/png": "[encoded data removed]",
      "text/plain": [
       "<Figure size 432x288 with 1 Axes>"
      ]
     },
     "metadata": {
      "needs_background": "light"
     },
     "output_type": "display_data"
    }
   ],
   "source": [
    "plt.plot(s1[1:],Qexp, 'o',label=\"data\")\n",
    "plt.plot(s1[1:],Qp(s1,*optimal_parameters),label=\"fitted\")\n",
    "plt.xlabel('Mole ratio')\n",
    "plt.ylabel('Q(Heat per mole) Kcal/mol')\n",
    "plt.title('Ca-EDTA binding isotherm - Data and Fit')\n",
    "plt.legend(loc=\"best\")"
   ]
  },
  {
   "cell_type": "markdown",
   "metadata": {},
   "source": [
    "## Section 4 :Data Analysis of Carvedilol-Mucin Experiment with Dumas Model.  \n",
    "\n"
   ]
  },
  {
   "cell_type": "code",
   "execution_count": 32,
   "metadata": {},
   "outputs": [
    {
     "data": {
      "text/html": [
       "<div>\n",
       "<style scoped>\n",
       "    .dataframe tbody tr th:only-of-type {\n",
       "        vertical-align: middle;\n",
       "    }\n",
       "\n",
       "    .dataframe tbody tr th {\n",
       "        vertical-align: top;\n",
       "    }\n",
       "\n",
       "    .dataframe thead th {\n",
       "        text-align: right;\n",
       "    }\n",
       "</style>\n",
       "<table border=\"1\" class=\"dataframe\">\n",
       "  <thead>\n",
       "    <tr style=\"text-align: right;\">\n",
       "      <th></th>\n",
       "      <th>Region</th>\n",
       "      <th>s(exp)</th>\n",
       "      <th>Q(exp) uJ</th>\n",
       "      <th>Q(exp) ucal</th>\n",
       "    </tr>\n",
       "  </thead>\n",
       "  <tbody>\n",
       "    <tr>\n",
       "      <th>0</th>\n",
       "      <td>1</td>\n",
       "      <td>0.000000</td>\n",
       "      <td>0.000000</td>\n",
       "      <td>0.000000</td>\n",
       "    </tr>\n",
       "    <tr>\n",
       "      <th>1</th>\n",
       "      <td>2</td>\n",
       "      <td>0.619405</td>\n",
       "      <td>-57.028496</td>\n",
       "      <td>-13.630138</td>\n",
       "    </tr>\n",
       "    <tr>\n",
       "      <th>2</th>\n",
       "      <td>3</td>\n",
       "      <td>0.929107</td>\n",
       "      <td>-45.539079</td>\n",
       "      <td>-10.884101</td>\n",
       "    </tr>\n",
       "    <tr>\n",
       "      <th>3</th>\n",
       "      <td>4</td>\n",
       "      <td>1.238810</td>\n",
       "      <td>-27.866577</td>\n",
       "      <td>-6.660272</td>\n",
       "    </tr>\n",
       "    <tr>\n",
       "      <th>4</th>\n",
       "      <td>5</td>\n",
       "      <td>1.548512</td>\n",
       "      <td>-27.606921</td>\n",
       "      <td>-6.598212</td>\n",
       "    </tr>\n",
       "    <tr>\n",
       "      <th>5</th>\n",
       "      <td>6</td>\n",
       "      <td>1.858215</td>\n",
       "      <td>-20.835550</td>\n",
       "      <td>-4.979816</td>\n",
       "    </tr>\n",
       "    <tr>\n",
       "      <th>6</th>\n",
       "      <td>7</td>\n",
       "      <td>2.167917</td>\n",
       "      <td>-14.283615</td>\n",
       "      <td>-3.413866</td>\n",
       "    </tr>\n",
       "    <tr>\n",
       "      <th>7</th>\n",
       "      <td>8</td>\n",
       "      <td>2.477620</td>\n",
       "      <td>-19.454248</td>\n",
       "      <td>-4.649677</td>\n",
       "    </tr>\n",
       "    <tr>\n",
       "      <th>8</th>\n",
       "      <td>9</td>\n",
       "      <td>2.787322</td>\n",
       "      <td>-13.662097</td>\n",
       "      <td>-3.265320</td>\n",
       "    </tr>\n",
       "    <tr>\n",
       "      <th>9</th>\n",
       "      <td>10</td>\n",
       "      <td>3.097025</td>\n",
       "      <td>-15.089138</td>\n",
       "      <td>-3.606390</td>\n",
       "    </tr>\n",
       "    <tr>\n",
       "      <th>10</th>\n",
       "      <td>11</td>\n",
       "      <td>3.406727</td>\n",
       "      <td>-0.667147</td>\n",
       "      <td>-0.159452</td>\n",
       "    </tr>\n",
       "    <tr>\n",
       "      <th>11</th>\n",
       "      <td>12</td>\n",
       "      <td>3.716429</td>\n",
       "      <td>-13.404391</td>\n",
       "      <td>-3.203726</td>\n",
       "    </tr>\n",
       "    <tr>\n",
       "      <th>12</th>\n",
       "      <td>13</td>\n",
       "      <td>4.335834</td>\n",
       "      <td>-7.878150</td>\n",
       "      <td>-1.882923</td>\n",
       "    </tr>\n",
       "    <tr>\n",
       "      <th>13</th>\n",
       "      <td>14</td>\n",
       "      <td>4.645537</td>\n",
       "      <td>-7.159553</td>\n",
       "      <td>-1.711174</td>\n",
       "    </tr>\n",
       "    <tr>\n",
       "      <th>14</th>\n",
       "      <td>15</td>\n",
       "      <td>4.955239</td>\n",
       "      <td>-5.072788</td>\n",
       "      <td>-1.212425</td>\n",
       "    </tr>\n",
       "    <tr>\n",
       "      <th>15</th>\n",
       "      <td>16</td>\n",
       "      <td>5.264942</td>\n",
       "      <td>-6.201407</td>\n",
       "      <td>-1.482172</td>\n",
       "    </tr>\n",
       "    <tr>\n",
       "      <th>16</th>\n",
       "      <td>17</td>\n",
       "      <td>5.574644</td>\n",
       "      <td>-6.039917</td>\n",
       "      <td>-1.443575</td>\n",
       "    </tr>\n",
       "    <tr>\n",
       "      <th>17</th>\n",
       "      <td>18</td>\n",
       "      <td>5.884347</td>\n",
       "      <td>-1.546794</td>\n",
       "      <td>-0.369693</td>\n",
       "    </tr>\n",
       "    <tr>\n",
       "      <th>18</th>\n",
       "      <td>19</td>\n",
       "      <td>6.194049</td>\n",
       "      <td>-2.024240</td>\n",
       "      <td>-0.483805</td>\n",
       "    </tr>\n",
       "    <tr>\n",
       "      <th>19</th>\n",
       "      <td>20</td>\n",
       "      <td>6.503752</td>\n",
       "      <td>-0.775666</td>\n",
       "      <td>-0.185389</td>\n",
       "    </tr>\n",
       "    <tr>\n",
       "      <th>20</th>\n",
       "      <td>21</td>\n",
       "      <td>6.813454</td>\n",
       "      <td>-1.759159</td>\n",
       "      <td>-0.420449</td>\n",
       "    </tr>\n",
       "    <tr>\n",
       "      <th>21</th>\n",
       "      <td>22</td>\n",
       "      <td>7.123157</td>\n",
       "      <td>1.630077</td>\n",
       "      <td>0.389598</td>\n",
       "    </tr>\n",
       "    <tr>\n",
       "      <th>22</th>\n",
       "      <td>23</td>\n",
       "      <td>7.432859</td>\n",
       "      <td>0.166757</td>\n",
       "      <td>0.039856</td>\n",
       "    </tr>\n",
       "    <tr>\n",
       "      <th>23</th>\n",
       "      <td>24</td>\n",
       "      <td>7.742561</td>\n",
       "      <td>1.249543</td>\n",
       "      <td>0.298648</td>\n",
       "    </tr>\n",
       "    <tr>\n",
       "      <th>24</th>\n",
       "      <td>25</td>\n",
       "      <td>8.052264</td>\n",
       "      <td>-5.915514</td>\n",
       "      <td>-1.413842</td>\n",
       "    </tr>\n",
       "  </tbody>\n",
       "</table>\n",
       "</div>"
      ],
      "text/plain": [
       "    Region    s(exp)  Q(exp) uJ  Q(exp) ucal\n",
       "0        1  0.000000   0.000000     0.000000\n",
       "1        2  0.619405 -57.028496   -13.630138\n",
       "2        3  0.929107 -45.539079   -10.884101\n",
       "3        4  1.238810 -27.866577    -6.660272\n",
       "4        5  1.548512 -27.606921    -6.598212\n",
       "5        6  1.858215 -20.835550    -4.979816\n",
       "6        7  2.167917 -14.283615    -3.413866\n",
       "7        8  2.477620 -19.454248    -4.649677\n",
       "8        9  2.787322 -13.662097    -3.265320\n",
       "9       10  3.097025 -15.089138    -3.606390\n",
       "10      11  3.406727  -0.667147    -0.159452\n",
       "11      12  3.716429 -13.404391    -3.203726\n",
       "12      13  4.335834  -7.878150    -1.882923\n",
       "13      14  4.645537  -7.159553    -1.711174\n",
       "14      15  4.955239  -5.072788    -1.212425\n",
       "15      16  5.264942  -6.201407    -1.482172\n",
       "16      17  5.574644  -6.039917    -1.443575\n",
       "17      18  5.884347  -1.546794    -0.369693\n",
       "18      19  6.194049  -2.024240    -0.483805\n",
       "19      20  6.503752  -0.775666    -0.185389\n",
       "20      21  6.813454  -1.759159    -0.420449\n",
       "21      22  7.123157   1.630077     0.389598\n",
       "22      23  7.432859   0.166757     0.039856\n",
       "23      24  7.742561   1.249543     0.298648\n",
       "24      25  8.052264  -5.915514    -1.413842"
      ]
     },
     "execution_count": 32,
     "metadata": {},
     "output_type": "execute_result"
    }
   ],
   "source": [
    "a = pd.read_excel(r'/Users/mac/Downloads/modelling meeting/Mucin Carvedilol Data xlsx.xlsx')\n",
    "a.head(25)"
   ]
  },
  {
   "cell_type": "code",
   "execution_count": 33,
   "metadata": {},
   "outputs": [],
   "source": [
    "s1_ = np.array([0,\n",
    "0.619404916,\n",
    "0.929107374,\n",
    "1.238809832,\n",
    "1.54851229,\n",
    "1.858214748,\n",
    "2.167917206,\n",
    "2.477619664,\n",
    "2.787322122,\n",
    "3.09702458,\n",
    "3.406727038,\n",
    "3.716429495,\n",
    "4.335834411,\n",
    "4.645536869,\n",
    "4.955239327,\n",
    "5.264941785,\n",
    "5.574644243,\n",
    "5.884346701,\n",
    "6.194049159,\n",
    "6.503751617,\n",
    "6.813454075,\n",
    "7.123156533,\n",
    "7.432858991,\n",
    "7.742561449,\n",
    "8.052263907\n",
    "])"
   ]
  },
  {
   "cell_type": "code",
   "execution_count": 34,
   "metadata": {},
   "outputs": [],
   "source": [
    "Qexp_ = np.array([-13.63013762,\n",
    "-10.88410121,\n",
    "-6.66027175,\n",
    "-6.598212448,\n",
    "-4.979815979,\n",
    "-3.413866032,\n",
    "-4.649676897,\n",
    "-3.265319529,\n",
    "-3.6063905,\n",
    "-0.15945191,\n",
    "-3.203726338,\n",
    "-1.882923062,\n",
    "-1.711174233,\n",
    "-1.212425424,\n",
    "-1.482171953,\n",
    "-1.443574799,\n",
    "-0.369692559,\n",
    "-0.483804904,\n",
    "-0.185388512,\n",
    "-0.420449152,\n",
    "0.389597806,\n",
    "0.039855827,\n",
    "0.298648043,\n",
    "-1.413841831\n",
    "])"
   ]
  },
  {
   "cell_type": "code",
   "execution_count": 35,
   "metadata": {},
   "outputs": [],
   "source": [
    "#Guess parameters\n",
    "ActiveFraction_ =0.15\n",
    "H_ = -18 #(kcal/mol)\n",
    "Kd_ =15 #uM\n",
    "Shift_ = 0.6"
   ]
  },
  {
   "cell_type": "code",
   "execution_count": 36,
   "metadata": {},
   "outputs": [],
   "source": [
    "#Lets make the parameters arrays\n",
    "#s1_corrected = s1/ActiveFraction\n",
    "#s2 = s1_corrected\n",
    "#print(s1_corrected)"
   ]
  },
  {
   "cell_type": "code",
   "execution_count": 37,
   "metadata": {},
   "outputs": [],
   "source": [
    "A0_=7.73 #in uM - cell concentration\n",
    "B0_= 192 # in uM - syringe concentration\n",
    "\n",
    "def Qp_(s1_,H_,ActiveFraction_,Kd_,Shift_):\n",
    "    s2_ = s1_/ActiveFraction_\n",
    "    r_ = B0_/(ActiveFraction_*A0_) \n",
    "    gamma_ = B0_/Kd_ #gamma = rc\n",
    "    c_ = A0_/Kd_ #Wiseman parameter\n",
    "    \n",
    "    Z_ = []\n",
    "    for i in range(0,len(s1)):\n",
    "        z_ = np.sqrt(((r_+gamma_)**2)+ 2*s2_[i]*(r_+gamma_+(r_-gamma_)*gamma_) + (s2_[i]**2)*((1+gamma_)**2))\n",
    "        Z_ = np.append(Z_,z_)\n",
    "    # print(Z)\n",
    "    \n",
    "    Q_ = []\n",
    "    for i in range(0,len(s1_)-1):\n",
    "        q_ = Shift_+((1+gamma_-((Z_[i+1]-Z_[i])/(s2_[i+1]-s2_[i])))/(2*gamma_))*10*H_\n",
    "        Q_ = np.append(Q_,q_)\n",
    "    \n",
    "    return Q_"
   ]
  },
  {
   "cell_type": "code",
   "execution_count": 38,
   "metadata": {},
   "outputs": [
    {
     "data": {
      "text/plain": [
       "<matplotlib.legend.Legend at 0x7fa4aa835f40>"
      ]
     },
     "execution_count": 38,
     "metadata": {},
     "output_type": "execute_result"
    },
    {
     "data": {
      "image/png": "[encoded data removed]",
      "text/plain": [
       "<Figure size 432x288 with 1 Axes>"
      ]
     },
     "metadata": {
      "needs_background": "light"
     },
     "output_type": "display_data"
    }
   ],
   "source": [
    "plt.plot(s1_[1:],Qexp_, 'o',label=\"data\")\n",
    "plt.plot(s1_[1:],Qp_(s1_,H_,ActiveFraction_,Kd_,Shift_),label=\"Predicted_Q\")\n",
    "plt.xlabel('Mole ratio')\n",
    "plt.ylabel('Q(Heat per mole) Kcal/mol')\n",
    "plt.title('Carvedilol-Mucin binding isotherm - Prediction')\n",
    "plt.legend(loc=\"best\")\n",
    "    "
   ]
  },
  {
   "cell_type": "code",
   "execution_count": 39,
   "metadata": {},
   "outputs": [
    {
     "name": "stdout",
     "output_type": "stream",
     "text": [
      "[-24.31523774   0.2         19.17231764   1.        ] [253.37616928   1.97806685  23.39956765   1.09053767]\n"
     ]
    }
   ],
   "source": [
    "optimal_parameters,covariance = curve_fit(Qp_,s1_,Qexp_,bounds=[[-50,0.2,10,1],[50,0.5,20,3]])\n",
    "parameter_errors = np.sqrt(np.diag(covariance))\n",
    "print(optimal_parameters,parameter_errors)\n"
   ]
  },
  {
   "cell_type": "code",
   "execution_count": 40,
   "metadata": {},
   "outputs": [
    {
     "name": "stdout",
     "output_type": "stream",
     "text": [
      "0.9450819595624241\n"
     ]
    }
   ],
   "source": [
    "R_square = r2_score(Qexp_,Qp_(s1_,*optimal_parameters))\n",
    "print(R_square)"
   ]
  },
  {
   "cell_type": "code",
   "execution_count": 41,
   "metadata": {},
   "outputs": [
    {
     "data": {
      "text/plain": [
       "<matplotlib.legend.Legend at 0x7fa4aa6e49d0>"
      ]
     },
     "execution_count": 41,
     "metadata": {},
     "output_type": "execute_result"
    },
    {
     "data": {
      "image/png": "[encoded data removed]",
      "text/plain": [
       "<Figure size 432x288 with 1 Axes>"
      ]
     },
     "metadata": {
      "needs_background": "light"
     },
     "output_type": "display_data"
    }
   ],
   "source": [
    "plt.plot(s1_[1:],Qexp_, 'o',label=\"data\")\n",
    "plt.plot(s1_[1:],Qp_(s1_,*optimal_parameters),label=\"fitted\")\n",
    "plt.xlabel('Mole ratio')\n",
    "plt.ylabel('Q(Heat per mole) Kcal/mol')\n",
    "plt.title('Carvedilol-Mucin binding isotherm Data and Fit')\n",
    "plt.legend(loc=\"best\")"
   ]
  },
  {
   "cell_type": "code",
   "execution_count": 42,
   "metadata": {},
   "outputs": [],
   "source": [
    "# sensitivity \n",
    "\n",
    "from SALib.sample import morris as ms\n",
    "from SALib.analyze import morris as ma\n",
    "from SALib.plotting import morris as mp "
   ]
  },
  {
   "cell_type": "code",
   "execution_count": 43,
   "metadata": {},
   "outputs": [],
   "source": [
    "morris_problem = {\n",
    "    'num_vars' : 4, \n",
    "    'names' : ['H_','ActiveFraction_','Kd_','Shift_'], \n",
    "    'bounds' : [[-50, 50], \n",
    "                [0.5, 1.1], \n",
    "                [0.5, 1.2], \n",
    "                [0.275038395603541,0.6]\n",
    "               ],\n",
    "    'groups' : None\n",
    "    }\n",
    "       "
   ]
  },
  {
   "cell_type": "code",
   "execution_count": 44,
   "metadata": {},
   "outputs": [
    {
     "name": "stdout",
     "output_type": "stream",
     "text": [
      "(50, 4)\n"
     ]
    }
   ],
   "source": [
    "number_of_trajectories = int(1e1)\n",
    "sample = ms.sample(morris_problem, number_of_trajectories, num_levels=4)\n",
    "print(sample.shape)"
   ]
  },
  {
   "cell_type": "code",
   "execution_count": 45,
   "metadata": {
    "scrolled": true,
    "tags": []
   },
   "outputs": [
    {
     "name": "stdout",
     "output_type": "stream",
     "text": [
      "-164.97842711141828\n",
      "-164.76178604182064\n",
      "496.685358125462\n",
      "496.685358125462\n",
      "494.2340488008919\n",
      "497.8142141013291\n",
      "497.8142141013291\n",
      "495.34757109590237\n",
      "-164.4602844116992\n",
      "-164.67692548129685\n",
      "-494.58085323509766\n",
      "165.22700227250382\n",
      "165.22700227250382\n",
      "165.44364334210147\n",
      "166.26585767724373\n",
      "-164.16132400322826\n",
      "494.01740773129427\n",
      "494.2340488008919\n",
      "496.685358125462\n",
      "496.685358125462\n",
      "165.14468293363055\n",
      "165.96178604182055\n",
      "165.7451449722229\n",
      "165.7451449722229\n",
      "-495.7019991950596\n",
      "165.63682443742408\n",
      "165.85346550702172\n",
      "165.03636239883173\n",
      "165.03636239883173\n",
      "-493.1423693356907\n",
      "-164.26964453802708\n",
      "-164.05300346842944\n",
      "494.12572826609306\n",
      "496.57703759066317\n",
      "496.57703759066317\n",
      "495.2392505611036\n",
      "495.2392505611036\n",
      "497.70589356653034\n",
      "-165.39081928164026\n",
      "-165.17417821204262\n",
      "494.01740773129427\n",
      "496.4687170558644\n",
      "-164.97842711141828\n",
      "-164.76178604182064\n",
      "-164.76178604182064\n",
      "-495.81031972985846\n",
      "-493.35901040528836\n",
      "164.81972132923408\n",
      "165.03636239883173\n",
      "165.03636239883173\n"
     ]
    }
   ],
   "source": [
    "output= []\n",
    "for i in sample: \n",
    "    H,Active_fraction,Kd,Shift = i \n",
    "    Qp_ = Qp(s1,H,ActiveFraction,Kd,Shift)\n",
    "    print(Qp_[0])\n",
    "    output.append(Qp_[15])\n",
    "    \n",
    "output_ = np.array(output)"
   ]
  },
  {
   "cell_type": "code",
   "execution_count": 46,
   "metadata": {},
   "outputs": [
    {
     "data": {
      "text/plain": [
       "(50, 4)"
      ]
     },
     "execution_count": 46,
     "metadata": {},
     "output_type": "execute_result"
    }
   ],
   "source": [
    "sample.shape"
   ]
  },
  {
   "cell_type": "code",
   "execution_count": 47,
   "metadata": {},
   "outputs": [
    {
     "data": {
      "text/plain": [
       "(50,)"
      ]
     },
     "execution_count": 47,
     "metadata": {},
     "output_type": "execute_result"
    }
   ],
   "source": [
    "output_.shape"
   ]
  },
  {
   "cell_type": "code",
   "execution_count": 48,
   "metadata": {},
   "outputs": [],
   "source": [
    "# Store the results for plotting of the analysis\n",
    "Si = ma.analyze(morris_problem, \n",
    "                sample, \n",
    "                output_, \n",
    "                print_to_console=False, \n",
    "                num_levels=4)"
   ]
  },
  {
   "cell_type": "code",
   "execution_count": 49,
   "metadata": {},
   "outputs": [
    {
     "name": "stdout",
     "output_type": "stream",
     "text": [
      "Name                      mu mu_star   sigma\n",
      "H_                     15.92   15.92    4.04\n",
      "ActiveFraction_         0.00    0.00    0.00\n",
      "Kd_                     3.32    4.41    3.54\n",
      "Shift_                  0.32    0.32    0.00\n"
     ]
    },
    {
     "data": {
      "text/plain": [
       "Text(0.5, 1.0, 'Sensitivity_Analysis')"
      ]
     },
     "execution_count": 49,
     "metadata": {},
     "output_type": "execute_result"
    },
    {
     "data": {
      "image/png": "[encoded data removed]",
      "text/plain": [
       "<Figure size 432x288 with 2 Axes>"
      ]
     },
     "metadata": {
      "needs_background": "light"
     },
     "output_type": "display_data"
    }
   ],
   "source": [
    "print(\"{:20s} {:>7s} {:>7s} {:>7s}\".format(\"Name\", \"mu\", \"mu_star\", \"sigma\"))\n",
    "for name, s1, st, mean in zip(morris_problem['names'], Si['mu'], Si['mu_star'], Si['sigma']):\n",
    "    print(\"{:20s} {:=7.2f} {:=7.2f} {:=7.2f}\".format(name, s1, st, mean))\n",
    "    \n",
    "fig, (ax1, ax2) = plt.subplots(1,2)\n",
    "mp.horizontal_bar_plot(ax1, Si) #  param_dict={}\n",
    "mp.covariance_plot(ax2, Si, {})\n",
    "plt.title('Sensitivity_Analysis')"
   ]
  },
  {
   "cell_type": "code",
   "execution_count": 50,
   "metadata": {},
   "outputs": [],
   "source": [
    "fig.savefig('Sensitivity_Analysis.png',dpi=300)"
   ]
  },
  {
   "cell_type": "code",
   "execution_count": null,
   "metadata": {},
   "outputs": [],
   "source": []
  },
  {
   "cell_type": "code",
   "execution_count": null,
   "metadata": {},
   "outputs": [],
   "source": []
  },
  {
   "cell_type": "code",
   "execution_count": null,
   "metadata": {},
   "outputs": [],
   "source": []
  },
  {
   "cell_type": "code",
   "execution_count": null,
   "metadata": {},
   "outputs": [],
   "source": []
  },
  {
   "cell_type": "code",
   "execution_count": null,
   "metadata": {},
   "outputs": [],
   "source": []
  }
 ],
 "metadata": {
  "kernelspec": {
   "display_name": "Python 3",
   "language": "python",
   "name": "python3"
  },
  "language_info": {
   "codemirror_mode": {
    "name": "ipython",
    "version": 3
   },
   "file_extension": ".py",
   "mimetype": "text/x-python",
   "name": "python",
   "nbconvert_exporter": "python",
   "pygments_lexer": "ipython3",
   "version": "3.8.10"
  }
 },
 "nbformat": 4,
 "nbformat_minor": 5
}
